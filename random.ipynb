{
 "cells": [
  {
   "cell_type": "markdown",
   "id": "58e7e447-b81a-4086-9985-906b98f50dd1",
   "metadata": {},
   "source": [
    "# two sum"
   ]
  },
  {
   "cell_type": "code",
   "execution_count": 1,
   "id": "80871c28-d602-4786-b218-d51e53248a8a",
   "metadata": {},
   "outputs": [],
   "source": [
    "nums = [1,2,3,4,9,8]\n",
    "target = 11"
   ]
  },
  {
   "cell_type": "code",
   "execution_count": 4,
   "id": "a45ac163-45dd-4079-a819-f4928e19f2c3",
   "metadata": {},
   "outputs": [],
   "source": [
    "from typing import List"
   ]
  },
  {
   "cell_type": "code",
   "execution_count": 20,
   "id": "896483ae-6ed0-4a3a-b531-5fd566da7a70",
   "metadata": {},
   "outputs": [],
   "source": [
    "def twoSumA(nums, target):\n",
    "    for i in range(len(nums)):\n",
    "        for j in range(i+1,len(nums)):\n",
    "            if(nums[i]+ nums[j] == target):\n",
    "                print (i, j)\n",
    "                return [i,j]"
   ]
  },
  {
   "cell_type": "code",
   "execution_count": 21,
   "id": "52b5990c-d3d6-4447-a2cc-f5f046d44729",
   "metadata": {},
   "outputs": [
    {
     "name": "stdout",
     "output_type": "stream",
     "text": [
      "1 4\n"
     ]
    },
    {
     "data": {
      "text/plain": [
       "[1, 4]"
      ]
     },
     "execution_count": 21,
     "metadata": {},
     "output_type": "execute_result"
    }
   ],
   "source": [
    "twoSumA(nums, target)"
   ]
  },
  {
   "cell_type": "code",
   "execution_count": 23,
   "id": "8d6f7589-4925-44f7-9a93-21c1d5dfb2a7",
   "metadata": {},
   "outputs": [],
   "source": [
    "def twoSumB(nums, target):\n",
    "    nums = [1,2,3,4,9,8]\n",
    "    target = 11\n",
    "    dic = {}\n",
    "    for i in range(len(nums)):\n",
    "        print(i)\n",
    "        secondValue = target - nums[i]\n",
    "        print(secondValue)"
   ]
  },
  {
   "cell_type": "code",
   "execution_count": 47,
   "id": "51c8db8e-6f97-4f54-850f-8a8bf7771c0b",
   "metadata": {},
   "outputs": [],
   "source": [
    "nums = [1,2,3,4,9,8]\n",
    "target = 11\n",
    "def sumTwoB(nums, target):\n",
    "    d = {}\n",
    "    for i in range(len(nums)):\n",
    "        # print('i value', i, nums[i])\n",
    "        secondValue = target - nums[i]\n",
    "        # print(' second value ', secondValue)\n",
    "        if(secondValue in d.keys()):\n",
    "            secondIndex = nums.index(secondValue)\n",
    "            if(i != secondIndex):\n",
    "            # print(' second value ', secondValue)\n",
    "                return [i, secondIndex]\n",
    "\n",
    "        d.update({nums[i]: i})\n",
    "        # print(d)"
   ]
  },
  {
   "cell_type": "code",
   "execution_count": 48,
   "id": "9dcb8274-0b3c-44fa-9105-2c85bdc8f78f",
   "metadata": {},
   "outputs": [
    {
     "data": {
      "text/plain": [
       "[4, 1]"
      ]
     },
     "execution_count": 48,
     "metadata": {},
     "output_type": "execute_result"
    }
   ],
   "source": [
    "sumTwoB(nums, target)"
   ]
  },
  {
   "cell_type": "markdown",
   "id": "72fc00cc-5c29-48ac-9e3b-557f7438c114",
   "metadata": {},
   "source": [
    "# python dictionary"
   ]
  },
  {
   "cell_type": "code",
   "execution_count": 50,
   "id": "c0a1923b-ea84-4804-a818-625a4732c410",
   "metadata": {},
   "outputs": [],
   "source": [
    "sample = {\"id\":\"a\", \"product\":\"abc\", \"desc\":\"desc 1\"}"
   ]
  },
  {
   "cell_type": "code",
   "execution_count": 53,
   "id": "e1dd3982-be4b-4414-bca9-f70fe2b100a4",
   "metadata": {},
   "outputs": [
    {
     "data": {
      "text/plain": [
       "'a'"
      ]
     },
     "execution_count": 53,
     "metadata": {},
     "output_type": "execute_result"
    }
   ],
   "source": [
    "sample[\"id\"]"
   ]
  },
  {
   "cell_type": "code",
   "execution_count": 54,
   "id": "52e36df7-00bb-45a9-bd6a-c0d57773abcf",
   "metadata": {},
   "outputs": [
    {
     "data": {
      "text/plain": [
       "'a'"
      ]
     },
     "execution_count": 54,
     "metadata": {},
     "output_type": "execute_result"
    }
   ],
   "source": [
    "sample.get(\"id\")"
   ]
  },
  {
   "cell_type": "code",
   "execution_count": 56,
   "id": "a7a445a6-ecc3-4686-bb13-1f07a214753d",
   "metadata": {},
   "outputs": [],
   "source": [
    "sample[\"desc\"]=\"desc 2\""
   ]
  },
  {
   "cell_type": "code",
   "execution_count": 62,
   "id": "6b1db032-ee3e-43ee-afdb-e53bc4ca5b06",
   "metadata": {},
   "outputs": [
    {
     "data": {
      "text/plain": [
       "{'id': 'a', 'product': 'abc', 'desc': 'desc 2', 'year': 1991}"
      ]
     },
     "execution_count": 62,
     "metadata": {},
     "output_type": "execute_result"
    }
   ],
   "source": [
    "sample"
   ]
  },
  {
   "cell_type": "code",
   "execution_count": 61,
   "id": "ce333a8e-e8f9-453f-a825-47eb5a83f139",
   "metadata": {},
   "outputs": [],
   "source": [
    "sample.update({\"year\":1991})"
   ]
  },
  {
   "cell_type": "code",
   "execution_count": 64,
   "id": "46465d1a-665a-4f91-80a6-fdf693d4b40e",
   "metadata": {},
   "outputs": [
    {
     "name": "stdout",
     "output_type": "stream",
     "text": [
      "id a\n",
      "product abc\n",
      "desc desc 2\n",
      "year 1991\n"
     ]
    }
   ],
   "source": [
    "for x, y in sample.items():\n",
    "    print(x,y)"
   ]
  },
  {
   "cell_type": "code",
   "execution_count": null,
   "id": "cc5ca6aa-e3aa-44a2-a0fd-40ceb073ab5c",
   "metadata": {},
   "outputs": [],
   "source": []
  }
 ],
 "metadata": {
  "kernelspec": {
   "display_name": "Python 3 (ipykernel)",
   "language": "python",
   "name": "python3"
  },
  "language_info": {
   "codemirror_mode": {
    "name": "ipython",
    "version": 3
   },
   "file_extension": ".py",
   "mimetype": "text/x-python",
   "name": "python",
   "nbconvert_exporter": "python",
   "pygments_lexer": "ipython3",
   "version": "3.8.5"
  }
 },
 "nbformat": 4,
 "nbformat_minor": 5
}
